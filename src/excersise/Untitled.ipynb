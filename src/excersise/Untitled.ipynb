{
 "cells": [
  {
   "cell_type": "code",
   "execution_count": 38,
   "id": "simplified-sussex",
   "metadata": {},
   "outputs": [],
   "source": [
    "import os, sys\n",
    "dir2 = os.path.abspath('')\n",
    "dir1 = os.path.dirname(dir2)\n",
    "if not dir1 in sys.path: sys.path.append(dir1)"
   ]
  },
  {
   "cell_type": "code",
   "execution_count": 39,
   "id": "another-scholarship",
   "metadata": {},
   "outputs": [],
   "source": [
    "import excersise_2 as e"
   ]
  },
  {
   "cell_type": "code",
   "execution_count": 17,
   "id": "indirect-produce",
   "metadata": {},
   "outputs": [],
   "source": [
    "def test_prepare_dates_dates_missing():\n",
    "    with pytest.raises(ValueError) as exc_info:\n",
    "        e.prepare_dates(None)\n",
    "        \n",
    "    assert \"Dates must not be empty\" == str(exc_info.value)"
   ]
  },
  {
   "cell_type": "code",
   "execution_count": 18,
   "id": "sitting-raising",
   "metadata": {},
   "outputs": [],
   "source": [
    "test_prepare_dates_dates_missing()"
   ]
  },
  {
   "cell_type": "code",
   "execution_count": 40,
   "id": "local-syndrome",
   "metadata": {},
   "outputs": [
    {
     "name": "stdout",
     "output_type": "stream",
     "text": [
      "============================================================================================== test session starts ===============================================================================================\n",
      "platform win32 -- Python 3.8.2, pytest-6.2.2, py-1.10.0, pluggy-0.13.1\n",
      "rootdir: D:\\david\\workspace-revolt\\innogy-training\\src\\excersise\n",
      "plugins: anyio-2.2.0\n",
      "collected 4 items\n",
      "\n",
      "test_excerise_2_1.py ...                                                                                                                                                                                    [ 75%]\n",
      "test_excersise_2_2.py F                                                                                                                                                                                     [100%]\n",
      "\n",
      "==================================================================================================== FAILURES ====================================================================================================\n",
      "_________________________________________________________________________________ test_fetch_log_dataframes_invalid_date_format __________________________________________________________________________________\n",
      "\n",
      "    def test_fetch_log_dataframes_invalid_date_format():\n",
      "        conn_mock = MagicMock()\n",
      ">       with pytest.raises(ValueError) as exc_info:\n",
      "E       TypeError: fetch_log_dataframes() missing 1 required positional argument: 'conn'\n",
      "\n",
      "test_excersise_2_2.py:8: TypeError\n",
      "============================================================================================ short test summary info =============================================================================================\n",
      "FAILED test_excersise_2_2.py::test_fetch_log_dataframes_invalid_date_format - TypeError: fetch_log_dataframes() missing 1 required positional argument: 'conn'\n",
      "========================================================================================== 1 failed, 3 passed in 0.04s ===========================================================================================\n"
     ]
    },
    {
     "data": {
      "text/plain": [
       "<ExitCode.TESTS_FAILED: 1>"
      ]
     },
     "execution_count": 40,
     "metadata": {},
     "output_type": "execute_result"
    }
   ],
   "source": [
    "pytest.main(['.'])"
   ]
  },
  {
   "cell_type": "code",
   "execution_count": null,
   "id": "historical-walnut",
   "metadata": {},
   "outputs": [],
   "source": []
  }
 ],
 "metadata": {
  "kernelspec": {
   "display_name": "Python 3",
   "language": "python",
   "name": "python3"
  },
  "language_info": {
   "codemirror_mode": {
    "name": "ipython",
    "version": 3
   },
   "file_extension": ".py",
   "mimetype": "text/x-python",
   "name": "python",
   "nbconvert_exporter": "python",
   "pygments_lexer": "ipython3",
   "version": "3.8.2"
  }
 },
 "nbformat": 4,
 "nbformat_minor": 5
}

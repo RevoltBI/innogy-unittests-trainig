{
 "cells": [
  {
   "cell_type": "code",
   "execution_count": 1,
   "id": "sexual-settlement",
   "metadata": {},
   "outputs": [],
   "source": [
    "import os, sys\n",
    "dir2 = os.path.abspath('')\n",
    "dir1 = os.path.dirname(dir2)\n",
    "if not dir1 in sys.path: sys.path.append(dir1)"
   ]
  },
  {
   "cell_type": "code",
   "execution_count": 61,
   "id": "terminal-invention",
   "metadata": {},
   "outputs": [],
   "source": [
    "import excersise_2 as e2"
   ]
  },
  {
   "cell_type": "code",
   "execution_count": 3,
   "id": "verbal-reasoning",
   "metadata": {},
   "outputs": [],
   "source": [
    "def test_prepare_dates_dates_missing():\n",
    "    with pytest.raises(ValueError) as exc_info:\n",
    "        e.prepare_dates(None)\n",
    "        \n",
    "    assert \"Dates must not be empty\" == str(exc_info.value)"
   ]
  },
  {
   "cell_type": "code",
   "execution_count": 7,
   "id": "raised-techno",
   "metadata": {},
   "outputs": [],
   "source": [
    "test_prepare_dates_dates_missing()"
   ]
  },
  {
   "cell_type": "code",
   "execution_count": 10,
   "id": "minus-canvas",
   "metadata": {},
   "outputs": [
    {
     "name": "stdout",
     "output_type": "stream",
     "text": [
      "============================================================================================== test session starts ===============================================================================================\n",
      "platform win32 -- Python 3.8.2, pytest-6.2.2, py-1.10.0, pluggy-0.13.1\n",
      "rootdir: D:\\david\\workspace-revolt\\innogy-training\\src\\excersise\n",
      "plugins: anyio-2.2.0\n",
      "collected 5 items\n",
      "\n",
      "tests\\test_excerise_2_1.py ...                                                                                                                                                                              [ 60%]\n",
      "tests\\test_excersise_2_2.py ..                                                                                                                                                                              [100%]\n",
      "\n",
      "=============================================================================================== 5 passed in 0.08s ================================================================================================\n"
     ]
    },
    {
     "data": {
      "text/plain": [
       "<ExitCode.OK: 0>"
      ]
     },
     "execution_count": 10,
     "metadata": {},
     "output_type": "execute_result"
    }
   ],
   "source": [
    "pytest.main(['.'])"
   ]
  },
  {
   "cell_type": "code",
   "execution_count": 11,
   "id": "olive-panel",
   "metadata": {},
   "outputs": [],
   "source": [
    "import pandas as pd\n",
    "\n",
    "\n",
    "df = pd.DataFrame({\n",
    "    \"contractor_id\": [1, 1, 1, 2, 2, 2],\n",
    "    \"name\": [\"David\", \"David\", \"David\", \"Maria\", \"Maria\", \"Maria\"],\n",
    "    \"maturity_date\": [\"2020-01-01\", \"2020-02-01\",\"2020-03-01\", \"2020-01-01\", \"2020-02-01\",\"2020-03-01\"],\n",
    "    \"amount\": [100, 200, 300, 200, 300, 400]\n",
    "})"
   ]
  },
  {
   "cell_type": "code",
   "execution_count": 12,
   "id": "celtic-baseline",
   "metadata": {},
   "outputs": [
    {
     "data": {
      "text/plain": [
       "6"
      ]
     },
     "execution_count": 12,
     "metadata": {},
     "output_type": "execute_result"
    }
   ],
   "source": [
    "len(df.index)"
   ]
  },
  {
   "cell_type": "code",
   "execution_count": 13,
   "id": "protecting-parameter",
   "metadata": {},
   "outputs": [],
   "source": [
    "import dependency as d\n",
    "\n",
    "stats = d.Stats()"
   ]
  },
  {
   "cell_type": "code",
   "execution_count": 16,
   "id": "integrated-photograph",
   "metadata": {},
   "outputs": [
    {
     "data": {
      "text/plain": [
       "'[Total count: 1, Total rows processed: 6'"
      ]
     },
     "execution_count": 16,
     "metadata": {},
     "output_type": "execute_result"
    }
   ],
   "source": [
    "str(stats)"
   ]
  },
  {
   "cell_type": "code",
   "execution_count": 15,
   "id": "human-correction",
   "metadata": {},
   "outputs": [],
   "source": [
    "stats.process(df)"
   ]
  },
  {
   "cell_type": "code",
   "execution_count": 17,
   "id": "noticed-charm",
   "metadata": {},
   "outputs": [],
   "source": [
    "stats2 = d.Stats()"
   ]
  },
  {
   "cell_type": "code",
   "execution_count": 18,
   "id": "hungry-bronze",
   "metadata": {},
   "outputs": [
    {
     "data": {
      "text/plain": [
       "'[Total count: 1, Total rows processed: 6'"
      ]
     },
     "execution_count": 18,
     "metadata": {},
     "output_type": "execute_result"
    }
   ],
   "source": [
    "str(stats)"
   ]
  },
  {
   "cell_type": "code",
   "execution_count": 48,
   "id": "hollow-interest",
   "metadata": {},
   "outputs": [],
   "source": [
    "hash1 = pd.util.hash_pandas_object(df)"
   ]
  },
  {
   "cell_type": "code",
   "execution_count": 47,
   "id": "effective-maker",
   "metadata": {},
   "outputs": [],
   "source": [
    "hash2 = pd.util.hash_pandas_object(pd.DataFrame({\n",
    "    \"contractor_id\": [1, 1, 1, 2, 2, 2],\n",
    "    \"name\": [\"David\", \"David\", \"David\", \"Maria\", \"Maria\", \"Maria\"],\n",
    "    \"maturity_date\": [\"2020-01-01\", \"2020-02-01\",\"2020-03-01\", \"2020-01-01\", \"2020-02-01\",\"2020-03-01\"],\n",
    "    \"amount\": [100, 200, 300, 200, 300, 400]\n",
    "}))"
   ]
  },
  {
   "cell_type": "code",
   "execution_count": 51,
   "id": "lightweight-citizen",
   "metadata": {},
   "outputs": [
    {
     "data": {
      "text/plain": [
       "True"
      ]
     },
     "execution_count": 51,
     "metadata": {},
     "output_type": "execute_result"
    }
   ],
   "source": [
    "hash1.equals(hash2)"
   ]
  },
  {
   "cell_type": "code",
   "execution_count": 36,
   "id": "recent-warning",
   "metadata": {},
   "outputs": [
    {
     "data": {
      "text/plain": [
       "-3491081594815777531"
      ]
     },
     "execution_count": 36,
     "metadata": {},
     "output_type": "execute_result"
    }
   ],
   "source": [
    "hash(str(hash1))"
   ]
  },
  {
   "cell_type": "code",
   "execution_count": 37,
   "id": "adopted-laser",
   "metadata": {},
   "outputs": [
    {
     "ename": "TypeError",
     "evalue": "'DataFrame' objects are mutable, thus they cannot be hashed",
     "output_type": "error",
     "traceback": [
      "\u001b[1;31m---------------------------------------------------------------------------\u001b[0m",
      "\u001b[1;31mTypeError\u001b[0m                                 Traceback (most recent call last)",
      "\u001b[1;32m<ipython-input-37-c7dec247c499>\u001b[0m in \u001b[0;36m<module>\u001b[1;34m\u001b[0m\n\u001b[0;32m      1\u001b[0m \u001b[0mss\u001b[0m \u001b[1;33m=\u001b[0m \u001b[0mset\u001b[0m\u001b[1;33m(\u001b[0m\u001b[1;33m)\u001b[0m\u001b[1;33m\u001b[0m\u001b[1;33m\u001b[0m\u001b[0m\n\u001b[1;32m----> 2\u001b[1;33m \u001b[0mss\u001b[0m\u001b[1;33m.\u001b[0m\u001b[0madd\u001b[0m\u001b[1;33m(\u001b[0m\u001b[0mdf\u001b[0m\u001b[1;33m)\u001b[0m\u001b[1;33m\u001b[0m\u001b[1;33m\u001b[0m\u001b[0m\n\u001b[0m",
      "\u001b[1;32md:\\david\\workspace-revolt\\innogy-training\\venv\\lib\\site-packages\\pandas\\core\\generic.py\u001b[0m in \u001b[0;36m__hash__\u001b[1;34m(self)\u001b[0m\n\u001b[0;32m   1782\u001b[0m \u001b[1;33m\u001b[0m\u001b[0m\n\u001b[0;32m   1783\u001b[0m     \u001b[1;32mdef\u001b[0m \u001b[0m__hash__\u001b[0m\u001b[1;33m(\u001b[0m\u001b[0mself\u001b[0m\u001b[1;33m)\u001b[0m \u001b[1;33m->\u001b[0m \u001b[0mint\u001b[0m\u001b[1;33m:\u001b[0m\u001b[1;33m\u001b[0m\u001b[1;33m\u001b[0m\u001b[0m\n\u001b[1;32m-> 1784\u001b[1;33m         raise TypeError(\n\u001b[0m\u001b[0;32m   1785\u001b[0m             \u001b[1;34mf\"{repr(type(self).__name__)} objects are mutable, \"\u001b[0m\u001b[1;33m\u001b[0m\u001b[1;33m\u001b[0m\u001b[0m\n\u001b[0;32m   1786\u001b[0m             \u001b[1;34mf\"thus they cannot be hashed\"\u001b[0m\u001b[1;33m\u001b[0m\u001b[1;33m\u001b[0m\u001b[0m\n",
      "\u001b[1;31mTypeError\u001b[0m: 'DataFrame' objects are mutable, thus they cannot be hashed"
     ]
    }
   ],
   "source": [
    "ss = set()\n",
    "ss.add(df)"
   ]
  },
  {
   "cell_type": "code",
   "execution_count": 38,
   "id": "grave-pavilion",
   "metadata": {},
   "outputs": [],
   "source": [
    "def test_process_empty():\n",
    "    stats = Stats()\n",
    "    \n",
    "    stats.process(None)\n",
    "    \n",
    "    assert str(stats) == \"[Total count: 0, Total rows processed: 0, Average row count: 0\""
   ]
  },
  {
   "cell_type": "code",
   "execution_count": 41,
   "id": "bizarre-savage",
   "metadata": {},
   "outputs": [],
   "source": [
    "def test_process_two_different():\n",
    "    stats = Stats()\n",
    "    \n",
    "    df1 = pd.DataFrame({\n",
    "        \"contractor_id\": [1, 1, 1, 2, 2, 2],\n",
    "        \"name\": [\"David\", \"David\", \"David\", \"Maria\", \"Maria\", \"Maria\"],\n",
    "        \"maturity_date\": [\"2020-01-01\", \"2020-02-01\",\"2020-03-01\", \"2020-01-01\", \"2020-02-01\",\"2020-03-01\"],\n",
    "        \"amount\": [100, 200, 300, 200, 300, 400]\n",
    "    })\n",
    "    \n",
    "    df2 = pd.DataFrame({\n",
    "        \"contractor_id\": [1, 1, 1, 2, 2, ],\n",
    "        \"name\": [\"Other\", \"Other\", \"Other\", \"Maria\", \"Maria\"],\n",
    "        \"maturity_date\": [\"2020-01-01\", \"2020-02-01\",\"2020-03-01\", \"2020-01-01\", \"2020-02-01\"],\n",
    "        \"amount\": [100, 200, 300, 200, 300]\n",
    "    })\n",
    "    \n",
    "    stats.process(df1)\n",
    "    stats.process(df2)\n",
    "    \n",
    "    assert str(stats) == \"[Total count: 2, Total rows processed: 11, Average row count: 6\""
   ]
  },
  {
   "cell_type": "code",
   "execution_count": null,
   "id": "otherwise-aurora",
   "metadata": {},
   "outputs": [],
   "source": []
  },
  {
   "cell_type": "code",
   "execution_count": null,
   "id": "clean-flood",
   "metadata": {},
   "outputs": [],
   "source": []
  },
  {
   "cell_type": "code",
   "execution_count": 46,
   "id": "smooth-resistance",
   "metadata": {},
   "outputs": [
    {
     "ename": "NameError",
     "evalue": "name 'Stats' is not defined",
     "output_type": "error",
     "traceback": [
      "\u001b[1;31m---------------------------------------------------------------------------\u001b[0m",
      "\u001b[1;31mNameError\u001b[0m                                 Traceback (most recent call last)",
      "\u001b[1;32m<ipython-input-46-7b60b7d66b09>\u001b[0m in \u001b[0;36m<module>\u001b[1;34m\u001b[0m\n\u001b[1;32m----> 1\u001b[1;33m \u001b[0mtest_process_empty\u001b[0m\u001b[1;33m(\u001b[0m\u001b[1;33m)\u001b[0m\u001b[1;33m\u001b[0m\u001b[1;33m\u001b[0m\u001b[0m\n\u001b[0m",
      "\u001b[1;32m<ipython-input-38-a66897a4bd34>\u001b[0m in \u001b[0;36mtest_process_empty\u001b[1;34m()\u001b[0m\n\u001b[0;32m      1\u001b[0m \u001b[1;32mdef\u001b[0m \u001b[0mtest_process_empty\u001b[0m\u001b[1;33m(\u001b[0m\u001b[1;33m)\u001b[0m\u001b[1;33m:\u001b[0m\u001b[1;33m\u001b[0m\u001b[1;33m\u001b[0m\u001b[0m\n\u001b[1;32m----> 2\u001b[1;33m     \u001b[0mstats\u001b[0m \u001b[1;33m=\u001b[0m \u001b[0mStats\u001b[0m\u001b[1;33m(\u001b[0m\u001b[1;33m)\u001b[0m\u001b[1;33m\u001b[0m\u001b[1;33m\u001b[0m\u001b[0m\n\u001b[0m\u001b[0;32m      3\u001b[0m \u001b[1;33m\u001b[0m\u001b[0m\n\u001b[0;32m      4\u001b[0m     \u001b[0mstats\u001b[0m\u001b[1;33m.\u001b[0m\u001b[0mprocess\u001b[0m\u001b[1;33m(\u001b[0m\u001b[1;32mNone\u001b[0m\u001b[1;33m)\u001b[0m\u001b[1;33m\u001b[0m\u001b[1;33m\u001b[0m\u001b[0m\n\u001b[0;32m      5\u001b[0m \u001b[1;33m\u001b[0m\u001b[0m\n",
      "\u001b[1;31mNameError\u001b[0m: name 'Stats' is not defined"
     ]
    }
   ],
   "source": [
    "test_process_empty()"
   ]
  },
  {
   "cell_type": "code",
   "execution_count": 45,
   "id": "pretty-suspect",
   "metadata": {},
   "outputs": [
    {
     "name": "stdout",
     "output_type": "stream",
     "text": [
      "============================================================================================== test session starts ===============================================================================================\n",
      "platform win32 -- Python 3.8.2, pytest-6.2.2, py-1.10.0, pluggy-0.13.1\n",
      "rootdir: D:\\david\\workspace-revolt\\innogy-training\\src\\excersise\n",
      "plugins: anyio-2.2.0\n",
      "collected 7 items\n",
      "\n",
      "tests\\test_dependency.py .F                                                                                                                                                                                 [ 28%]\n",
      "tests\\test_excerise_2_1.py ...                                                                                                                                                                              [ 71%]\n",
      "tests\\test_excersise_2_2.py ..                                                                                                                                                                              [100%]\n",
      "\n",
      "==================================================================================================== FAILURES ====================================================================================================\n",
      "___________________________________________________________________________________________ test_process_two_different ___________________________________________________________________________________________\n",
      "\n",
      ">   ???\n",
      "E   NameError: name 'pd' is not defined\n",
      "\n",
      "tests\\test_dependency.py:24: NameError\n",
      "============================================================================================ short test summary info =============================================================================================\n",
      "FAILED tests/test_dependency.py::test_process_two_different - NameError: name 'pd' is not defined\n",
      "========================================================================================== 1 failed, 6 passed in 0.05s ===========================================================================================\n"
     ]
    },
    {
     "data": {
      "text/plain": [
       "<ExitCode.TESTS_FAILED: 1>"
      ]
     },
     "execution_count": 45,
     "metadata": {},
     "output_type": "execute_result"
    }
   ],
   "source": [
    "pytest.main(['.'])"
   ]
  },
  {
   "cell_type": "code",
   "execution_count": 59,
   "id": "changing-diamond",
   "metadata": {},
   "outputs": [
    {
     "ename": "ImportError",
     "evalue": "attempted relative import with no known parent package",
     "output_type": "error",
     "traceback": [
      "\u001b[1;31m---------------------------------------------------------------------------\u001b[0m",
      "\u001b[1;31mImportError\u001b[0m                               Traceback (most recent call last)",
      "\u001b[1;32m<ipython-input-59-6c8b4d240c28>\u001b[0m in \u001b[0;36m<module>\u001b[1;34m\u001b[0m\n\u001b[1;32m----> 1\u001b[1;33m \u001b[1;32mimport\u001b[0m \u001b[0mexcersise_1\u001b[0m \u001b[1;32mas\u001b[0m \u001b[0me1\u001b[0m\u001b[1;33m\u001b[0m\u001b[1;33m\u001b[0m\u001b[0m\n\u001b[0m",
      "\u001b[1;32mD:\\david\\workspace-revolt\\innogy-training\\src\\excersise\\excersise_1.py\u001b[0m in \u001b[0;36m<module>\u001b[1;34m\u001b[0m\n\u001b[0;32m     11\u001b[0m \u001b[1;32mimport\u001b[0m \u001b[0mpandas\u001b[0m \u001b[1;32mas\u001b[0m \u001b[0mpd\u001b[0m\u001b[1;33m\u001b[0m\u001b[1;33m\u001b[0m\u001b[0m\n\u001b[0;32m     12\u001b[0m \u001b[1;33m\u001b[0m\u001b[0m\n\u001b[1;32m---> 13\u001b[1;33m \u001b[1;32mfrom\u001b[0m \u001b[1;33m.\u001b[0m\u001b[0mstats_counter\u001b[0m \u001b[1;32mimport\u001b[0m \u001b[0mStats\u001b[0m\u001b[1;33m\u001b[0m\u001b[1;33m\u001b[0m\u001b[0m\n\u001b[0m\u001b[0;32m     14\u001b[0m \u001b[1;33m\u001b[0m\u001b[0m\n\u001b[0;32m     15\u001b[0m \u001b[1;32mdef\u001b[0m \u001b[0mprepare_print_daily_logs_statistics\u001b[0m\u001b[1;33m(\u001b[0m\u001b[0mdates\u001b[0m\u001b[1;33m,\u001b[0m \u001b[0mhost\u001b[0m\u001b[1;33m,\u001b[0m \u001b[0musername\u001b[0m\u001b[1;33m,\u001b[0m \u001b[0mpassword\u001b[0m\u001b[1;33m)\u001b[0m\u001b[1;33m:\u001b[0m\u001b[1;33m\u001b[0m\u001b[1;33m\u001b[0m\u001b[0m\n",
      "\u001b[1;31mImportError\u001b[0m: attempted relative import with no known parent package"
     ]
    }
   ],
   "source": [
    "import excersise_1 as e1"
   ]
  },
  {
   "cell_type": "code",
   "execution_count": null,
   "id": "bound-camel",
   "metadata": {},
   "outputs": [],
   "source": []
  },
  {
   "cell_type": "code",
   "execution_count": null,
   "id": "maritime-threat",
   "metadata": {},
   "outputs": [],
   "source": []
  }
 ],
 "metadata": {
  "kernelspec": {
   "display_name": "Python 3",
   "language": "python",
   "name": "python3"
  },
  "language_info": {
   "codemirror_mode": {
    "name": "ipython",
    "version": 3
   },
   "file_extension": ".py",
   "mimetype": "text/x-python",
   "name": "python",
   "nbconvert_exporter": "python",
   "pygments_lexer": "ipython3",
   "version": "3.8.2"
  }
 },
 "nbformat": 4,
 "nbformat_minor": 5
}
